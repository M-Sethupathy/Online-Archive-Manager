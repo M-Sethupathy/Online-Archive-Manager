{
  "nbformat": 4,
  "nbformat_minor": 0,
  "metadata": {
    "colab": {
      "name": "Copy of References - Compressor (RAM Overflow Warning).ipynb",
      "provenance": [],
      "collapsed_sections": []
    },
    "kernelspec": {
      "name": "python3",
      "display_name": "Python 3"
    },
    "accelerator": "TPU"
  },
  "cells": [
    {
      "cell_type": "markdown",
      "metadata": {
        "id": "2g9LpWRr7mZ1",
        "colab_type": "text"
      },
      "source": [
        "Download Files using Wget"
      ]
    },
    {
      "cell_type": "code",
      "metadata": {
        "id": "JL_3gSYc7ltg",
        "colab_type": "code",
        "colab": {}
      },
      "source": [
        "!wget \"URL of File\""
      ],
      "execution_count": null,
      "outputs": []
    },
    {
      "cell_type": "markdown",
      "metadata": {
        "id": "2E6PQgV06owj",
        "colab_type": "text"
      },
      "source": [
        "Extract Files (Optional)"
      ]
    },
    {
      "cell_type": "code",
      "metadata": {
        "id": "Plu-l8OKvWiz",
        "colab_type": "code",
        "colab": {}
      },
      "source": [
        "!7z x \"File to extract\""
      ],
      "execution_count": null,
      "outputs": []
    },
    {
      "cell_type": "markdown",
      "metadata": {
        "id": "tEzgWBad7D37",
        "colab_type": "text"
      },
      "source": [
        "Apply High Compression on Downloaded Data (Warning : Max RAM limit is 12GB ,use it wisely so that RAM overflow never occur)"
      ]
    },
    {
      "cell_type": "code",
      "metadata": {
        "id": "elDEB7jIm-2Y",
        "colab_type": "code",
        "colab": {}
      },
      "source": [
        "!7z a -t7z -m0=lzma2 -mx=9 -aoa -mfb=64 -md=32m -ms=on -md=1024m -mhe \"Output_file_name.7z\" \"Folder or file path (to compress)\""
      ],
      "execution_count": null,
      "outputs": []
    },
    {
      "cell_type": "markdown",
      "metadata": {
        "id": "wIS0r4Mr7YUk",
        "colab_type": "text"
      },
      "source": [
        "Copy Compressed Archieve to Google Drive"
      ]
    },
    {
      "cell_type": "code",
      "metadata": {
        "id": "6JsNwtEZp4n-",
        "colab_type": "code",
        "colab": {}
      },
      "source": [
        "!cp Output_file_name.7z \"/content/drive/My Drive/\""
      ],
      "execution_count": null,
      "outputs": []
    }
  ]
}